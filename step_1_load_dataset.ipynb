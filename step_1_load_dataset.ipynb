{
    "cells": [
        {
            "cell_type": "markdown",
            "id": "introduction",
            "metadata": {},
            "source": [
                "# Quickstart Guide: Loading Data into Snowflake\n",
                "## Introduction\n",
                "This quickstart notebook demonstrates how to set up a Snowflake environment, create a database and schema, and load data from an S3 bucket into a Snowflake table using Snowflake's Snowpark Python API.\n",
                "\n",
                "### Steps Covered:\n",
                "1. Establish a Snowflake session.\n",
                "2. Set up the database and schema.\n",
                "3. Create a table with the specified schema.\n",
                "4. Load data from an S3 bucket using a stage and file format.\n",
                "5. Validate the data load by counting rows in the table.\n"
            ]
        },
        {
            "cell_type": "markdown",
            "id": "step-1",
            "metadata": {},
            "source": [
                "### Step 1: Establish a Snowflake Session\n",
                "In this step, we establish a session with Snowflake using the Snowpark Python API. Ensure you have the necessary credentials configured."
            ]
        },
        {
            "cell_type": "code",
            "execution_count": null,
            "id": "cell-1",
            "metadata": {},
            "outputs": [],
            "source": [
                "# Import required modules and establish a session\n",
                "from snowflake.snowpark.context import get_active_session\n",
                "\n",
                "# Get active session\n",
                "session = get_active_session()\n",
                "session.sql_simplifier_enabled = True  # Enable SQL simplifier for optimized query execution\n",
                "\n",
                "# Verify connection by checking the current user and Snowflake version\n",
                "print(\"Connected to Snowflake:\", session.sql('SELECT current_user(), current_version()').collect())"
            ]
        },
        {
            "cell_type": "markdown",
            "id": "step-2",
            "metadata": {},
            "source": [
                "### Step 2: Set Up Database and Schema\n",
                "We create and use the specified database and schema to ensure our environment is ready for loading data."
            ]
        },
        {
            "cell_type": "code",
            "execution_count": null,
            "id": "cell-2",
            "metadata": {},
            "outputs": [],
            "source": [
                "# Database and schema configuration\n",
                "database_name = 'CR_QUICKSTART'\n",
                "schema_name = 'PUBLIC'\n",
                "\n",
                "# Create and switch to the database and schema\n",
                "session.sql(f'CREATE DATABASE IF NOT EXISTS {database_name}').collect()\n",
                "session.sql(f'USE DATABASE {database_name}').collect()\n",
                "session.sql(f'CREATE SCHEMA IF NOT EXISTS {schema_name}').collect()\n",
                "session.sql(f'USE SCHEMA {schema_name}').collect()\n",
                "\n",
                "# Print success message\n",
                "print(f\"Database {database_name} and Schema {schema_name} are set up.\")"
            ]
        },
        {
            "cell_type": "markdown",
            "id": "step-3",
            "metadata": {},
            "source": [
                "### Step 3: Create Table\n",
                "Define and create the table structure to hold the data. We use the schema provided in the quickstart."
            ]
        },
        {
            "cell_type": "code",
            "execution_count": null,
            "id": "cell-3",
            "metadata": {},
            "outputs": [],
            "source": [
                "# Define table name and create the table\n",
                "table_name = 'VEHICLE'\n",
                "\n",
                "# SQL to create the table with the specified schema\n",
                "create_table_sql = f'''\n",
                "CREATE OR REPLACE TABLE {database_name}.{schema_name}.{table_name} (\n",
                "    C1 NUMBER(38,0),\n",
                "    C2 TIMESTAMP_NTZ(9),\n",
                "    C3 NUMBER(38,0),\n",
                "    C4 NUMBER(38,0),\n",
                "    C5 NUMBER(38,2),\n",
                "    C6 NUMBER(38,0),\n",
                "    C7 NUMBER(38,0),\n",
                "    C8 NUMBER(38,0),\n",
                "    C9 NUMBER(38,0)\n",
                ");\n",
                "'''\n",
                "\n",
                "# Execute the SQL command to create the table\n",
                "session.sql(create_table_sql).collect()\n",
                "\n",
                "# Print success message\n",
                "print(f\"Table {table_name} created successfully.\")"
            ]
        },
        {
            "cell_type": "markdown",
            "id": "step-4",
            "metadata": {},
            "source": [
                "### Step 4: Load Data from S3 Bucket\n",
                "We create a file format and stage for the S3 bucket and use the `COPY INTO` command to load the data into the table."
            ]
        },
        {
            "cell_type": "code",
            "execution_count": null,
            "id": "cell-4",
            "metadata": {},
            "outputs": [],
            "source": [
                "# Define file format and stage for the S3 bucket\n",
                "file_format_name = 'CSV_FORMAT'\n",
                "stage_name = 'VEHICLE_STAGE'\n",
                "\n",
                "# Replace s3 link with your own data.\n",
                "s3_bucket_url = 's3://sfquickstarts/misc/demos/fraud_transactions.csv'\n",
                "\n",
                "# Create file format for CSV\n",
                "create_file_format_sql = f'''\n",
                "CREATE OR REPLACE FILE FORMAT {file_format_name}\n",
                "TYPE = 'CSV'\n",
                "FIELD_OPTIONALLY_ENCLOSED_BY = '\"'\n",
                "SKIP_HEADER = 1\n",
                "NULL_IF = ('NULL', '');\n",
                "'''\n",
                "\n",
                "# Create stage for S3 bucket\n",
                "create_stage_sql = f'''\n",
                "CREATE OR REPLACE STAGE {stage_name}\n",
                "URL = '{s3_bucket_url}'\n",
                "FILE_FORMAT = (FORMAT_NAME = {file_format_name});\n",
                "'''\n",
                "\n",
                "# Execute file format and stage creation\n",
                "session.sql(create_file_format_sql).collect()\n",
                "session.sql(create_stage_sql).collect()\n",
                "\n",
                "# Copy data from S3 to the vehicle table\n",
                "copy_into_sql = f'''\n",
                "COPY INTO {database_name}.{schema_name}.{table_name}\n",
                "FROM @{stage_name}\n",
                "FILE_FORMAT = (FORMAT_NAME = '{file_format_name}');\n",
                "'''\n",
                "\n",
                "# Run the copy command\n",
                "session.sql(copy_into_sql).collect()\n",
                "print(f\"Data loaded into {table_name} from {s3_bucket_url} successfully.\")"
            ]
        },
        {
            "cell_type": "markdown",
            "id": "step-5",
            "metadata": {},
            "source": [
                "### Step 5: Validate Data Load\n",
                "Count the number of rows in the table to verify that the data has been loaded successfully."
            ]
        },
        {
            "cell_type": "code",
            "execution_count": null,
            "id": "cell-5",
            "metadata": {},
            "outputs": [],
            "source": [
                "# Count the number of rows in the table\n",
                "row_count_sql = f'''\n",
                "SELECT COUNT(*) AS row_count\n",
                "FROM {database_name}.{schema_name}.{table_name};\n",
                "'''\n",
                "\n",
                "# Execute the query and print the row count\n",
                "row_count = session.sql(row_count_sql).collect()[0][0]\n",
                "print(f\"Number of rows in {table_name}: {row_count}\")"
            ]
        },
        {
            "cell_type": "code",
            "execution_count": null,
            "metadata": {},
            "outputs": [],
            "source": [
                "# Clean up by closing the session\n",
                "session.close()"
            ]
        },
        {
            "cell_type": "markdown",
            "id": "conclusion",
            "metadata": {},
            "source": [
                "## Conclusion\n",
                "In this quickstart notebook, we demonstrated how to:\n",
                "- Set up a Snowflake session.\n",
                "- Configure and create a database and schema.\n",
                "- Create a table and load data from an S3 bucket.\n",
                "- Validate the data load by counting rows.\n",
                "\n",
                "You can now adapt this template to your specific datasets and schemas as needed."
            ]
        }
    ],
    "metadata": {
        "kernelspec": {
            "display_name": "Python 3 (ipykernel)",
            "language": "python",
            "name": "python3"
        },
        "language_info": {
            "codemirror_mode": {
                "name": "ipython",
                "version": 3
            },
            "file_extension": ".py",
            "mimetype": "text/x-python",
            "name": "python",
            "nbconvert_exporter": "python",
            "pygments_lexer": "ipython3",
            "version": "3.10.14"
        }
    },
    "nbformat": 4,
    "nbformat_minor": 4
}
